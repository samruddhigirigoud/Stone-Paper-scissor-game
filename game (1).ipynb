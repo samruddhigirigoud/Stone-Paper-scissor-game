{
 "cells": [
  {
   "cell_type": "code",
   "execution_count": 1,
   "id": "6c19a0e2-e6e4-4aa8-ab50-76d30d1d5023",
   "metadata": {},
   "outputs": [
    {
     "name": "stdout",
     "output_type": "stream",
     "text": [
      "=== Welcome to Stone Paper Scissors Game ===\n"
     ]
    },
    {
     "name": "stdin",
     "output_type": "stream",
     "text": [
      "Enter your move (stone/paper/scissors):  stone\n"
     ]
    },
    {
     "name": "stdout",
     "output_type": "stream",
     "text": [
      "Computer chose: paper\n",
      "Computer wins this round!\n",
      "Scoreboard: {'User': 0, 'Computer': 1, 'Draws': 0}\n"
     ]
    },
    {
     "name": "stdin",
     "output_type": "stream",
     "text": [
      "Do you want to play another round? (yes/no):  yes\n",
      "Enter your move (stone/paper/scissors):  paper\n"
     ]
    },
    {
     "name": "stdout",
     "output_type": "stream",
     "text": [
      "Computer chose: paper\n",
      "It's a draw!\n",
      "Scoreboard: {'User': 0, 'Computer': 1, 'Draws': 1}\n"
     ]
    },
    {
     "name": "stdin",
     "output_type": "stream",
     "text": [
      "Do you want to play another round? (yes/no):  no\n"
     ]
    },
    {
     "name": "stdout",
     "output_type": "stream",
     "text": [
      "\n",
      "Final Scores:\n",
      "{'User': 0, 'Computer': 1, 'Draws': 1}\n",
      "Thanks for playing!\n"
     ]
    }
   ],
   "source": [
    "import random\n",
    "\n",
    "# Possible moves\n",
    "choices = [\"stone\", \"paper\", \"scissors\"]\n",
    "\n",
    "# Scoreboard\n",
    "score = {\"User\": 0, \"Computer\": 0, \"Draws\": 0}\n",
    "\n",
    "def get_user_choice():\n",
    "    while True:\n",
    "        user_input = input(\"Enter your move (stone/paper/scissors): \").lower()\n",
    "        if user_input in choices:\n",
    "            return user_input\n",
    "        else:\n",
    "            print(\"Invalid input. Please try again.\")\n",
    "\n",
    "def get_computer_choice():\n",
    "    return random.choice(choices)\n",
    "\n",
    "def decide_winner(user, computer):\n",
    "    if user == computer:\n",
    "        return \"Draw\"\n",
    "    elif (user == \"stone\" and computer == \"scissors\") or \\\n",
    "         (user == \"paper\" and computer == \"stone\") or \\\n",
    "         (user == \"scissors\" and computer == \"paper\"):\n",
    "        return \"User\"\n",
    "    else:\n",
    "        return \"Computer\"\n",
    "\n",
    "def play_round():\n",
    "    user = get_user_choice()\n",
    "    computer = get_computer_choice()\n",
    "    print(f\"Computer chose: {computer}\")\n",
    "    winner = decide_winner(user, computer)\n",
    "    if winner == \"Draw\":\n",
    "        print(\"It's a draw!\")\n",
    "        score[\"Draws\"] += 1\n",
    "    else:\n",
    "        print(f\"{winner} wins this round!\")\n",
    "        score[winner] += 1\n",
    "\n",
    "def main():\n",
    "    print(\"=== Welcome to Stone Paper Scissors Game ===\")\n",
    "    while True:\n",
    "        play_round()\n",
    "        print(f\"Scoreboard: {score}\")\n",
    "        again = input(\"Do you want to play another round? (yes/no): \").lower()\n",
    "        if again != \"yes\":\n",
    "            break\n",
    "    print(\"\\nFinal Scores:\")\n",
    "    print(score)\n",
    "    print(\"Thanks for playing!\")\n",
    "\n",
    "if __name__ == \"__main__\":\n",
    "    main()\n"
   ]
  },
  {
   "cell_type": "code",
   "execution_count": null,
   "id": "0de455bf-1e6f-454a-98aa-801641f2e8c8",
   "metadata": {},
   "outputs": [],
   "source": []
  }
 ],
 "metadata": {
  "kernelspec": {
   "display_name": "Python [conda env:base] *",
   "language": "python",
   "name": "conda-base-py"
  },
  "language_info": {
   "codemirror_mode": {
    "name": "ipython",
    "version": 3
   },
   "file_extension": ".py",
   "mimetype": "text/x-python",
   "name": "python",
   "nbconvert_exporter": "python",
   "pygments_lexer": "ipython3",
   "version": "3.12.7"
  }
 },
 "nbformat": 4,
 "nbformat_minor": 5
}
